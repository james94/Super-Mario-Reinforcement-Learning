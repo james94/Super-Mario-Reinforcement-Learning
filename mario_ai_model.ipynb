{
 "cells": [
  {
   "cell_type": "markdown",
   "id": "a5411683",
   "metadata": {},
   "source": [
    "# RL for Super Mario Bros"
   ]
  },
  {
   "cell_type": "markdown",
   "id": "34f51310",
   "metadata": {},
   "source": [
    "## Setup Mario"
   ]
  },
  {
   "cell_type": "code",
   "execution_count": 1,
   "id": "1f9be100-99fe-462a-a15a-6da79a4b1766",
   "metadata": {},
   "outputs": [
    {
     "name": "stdout",
     "output_type": "stream",
     "text": [
      "Collecting package metadata (current_repodata.json): done\n",
      "Solving environment: failed with initial frozen solve. Retrying with flexible solve.\n",
      "Solving environment: failed with repodata from current_repodata.json, will retry with next repodata source.\n",
      "Collecting package metadata (repodata.json): done\n",
      "Solving environment: done\n",
      "\n",
      "## Package Plan ##\n",
      "\n",
      "  environment location: /home/james/miniconda3/envs/cmpe260_dev\n",
      "\n",
      "  added / updated specs:\n",
      "    - pytorch\n",
      "    - pytorch-cuda=11.7\n",
      "    - torchaudio\n",
      "    - torchvision\n",
      "\n",
      "\n",
      "The following NEW packages will be INSTALLED:\n",
      "\n",
      "  blas               pkgs/main/linux-64::blas-1.0-mkl \n",
      "  brotlipy           pkgs/main/linux-64::brotlipy-0.7.0-py310h7f8727e_1002 \n",
      "  cffi               pkgs/main/linux-64::cffi-1.15.1-py310h5eee18b_3 \n",
      "  charset-normalizer pkgs/main/noarch::charset-normalizer-2.0.4-pyhd3eb1b0_0 \n",
      "  cryptography       pkgs/main/linux-64::cryptography-38.0.4-py310h9ce1e76_0 \n",
      "  cuda               nvidia/linux-64::cuda-11.7.1-0 \n",
      "  cuda-cccl          nvidia/linux-64::cuda-cccl-11.7.91-0 \n",
      "  cuda-command-line~ nvidia/linux-64::cuda-command-line-tools-11.7.1-0 \n",
      "  cuda-compiler      nvidia/linux-64::cuda-compiler-11.7.1-0 \n",
      "  cuda-cudart        nvidia/linux-64::cuda-cudart-11.7.99-0 \n",
      "  cuda-cudart-dev    nvidia/linux-64::cuda-cudart-dev-11.7.99-0 \n",
      "  cuda-cuobjdump     nvidia/linux-64::cuda-cuobjdump-11.7.91-0 \n",
      "  cuda-cupti         nvidia/linux-64::cuda-cupti-11.7.101-0 \n",
      "  cuda-cuxxfilt      nvidia/linux-64::cuda-cuxxfilt-11.7.91-0 \n",
      "  cuda-demo-suite    nvidia/linux-64::cuda-demo-suite-12.0.76-0 \n",
      "  cuda-documentation nvidia/linux-64::cuda-documentation-12.0.76-0 \n",
      "  cuda-driver-dev    nvidia/linux-64::cuda-driver-dev-11.7.99-0 \n",
      "  cuda-gdb           nvidia/linux-64::cuda-gdb-12.0.90-0 \n",
      "  cuda-libraries     nvidia/linux-64::cuda-libraries-11.7.1-0 \n",
      "  cuda-libraries-dev nvidia/linux-64::cuda-libraries-dev-11.7.1-0 \n",
      "  cuda-memcheck      nvidia/linux-64::cuda-memcheck-11.8.86-0 \n",
      "  cuda-nsight        nvidia/linux-64::cuda-nsight-12.0.78-0 \n",
      "  cuda-nsight-compu~ nvidia/linux-64::cuda-nsight-compute-12.0.0-0 \n",
      "  cuda-nvcc          nvidia/linux-64::cuda-nvcc-11.7.99-0 \n",
      "  cuda-nvdisasm      nvidia/linux-64::cuda-nvdisasm-12.0.76-0 \n",
      "  cuda-nvml-dev      nvidia/linux-64::cuda-nvml-dev-11.7.91-0 \n",
      "  cuda-nvprof        nvidia/linux-64::cuda-nvprof-12.0.90-0 \n",
      "  cuda-nvprune       nvidia/linux-64::cuda-nvprune-11.7.91-0 \n",
      "  cuda-nvrtc         nvidia/linux-64::cuda-nvrtc-11.7.99-0 \n",
      "  cuda-nvrtc-dev     nvidia/linux-64::cuda-nvrtc-dev-11.7.99-0 \n",
      "  cuda-nvtx          nvidia/linux-64::cuda-nvtx-11.7.91-0 \n",
      "  cuda-nvvp          nvidia/linux-64::cuda-nvvp-12.0.90-0 \n",
      "  cuda-runtime       nvidia/linux-64::cuda-runtime-11.7.1-0 \n",
      "  cuda-sanitizer-api nvidia/linux-64::cuda-sanitizer-api-12.0.90-0 \n",
      "  cuda-toolkit       nvidia/linux-64::cuda-toolkit-11.7.1-0 \n",
      "  cuda-tools         nvidia/linux-64::cuda-tools-11.7.1-0 \n",
      "  cuda-visual-tools  nvidia/linux-64::cuda-visual-tools-11.7.1-0 \n",
      "  ffmpeg             pytorch/linux-64::ffmpeg-4.3-hf484d3e_0 \n",
      "  flit-core          pkgs/main/noarch::flit-core-3.6.0-pyhd3eb1b0_0 \n",
      "  freetype           pkgs/main/linux-64::freetype-2.12.1-h4a9f257_0 \n",
      "  gds-tools          nvidia/linux-64::gds-tools-1.5.0.59-0 \n",
      "  giflib             pkgs/main/linux-64::giflib-5.2.1-h7b6447c_0 \n",
      "  gmp                pkgs/main/linux-64::gmp-6.2.1-h295c915_3 \n",
      "  gnutls             pkgs/main/linux-64::gnutls-3.6.15-he1e5248_0 \n",
      "  idna               pkgs/main/linux-64::idna-3.4-py310h06a4308_0 \n",
      "  intel-openmp       pkgs/main/linux-64::intel-openmp-2021.4.0-h06a4308_3561 \n",
      "  jpeg               pkgs/main/linux-64::jpeg-9e-h7f8727e_0 \n",
      "  lame               pkgs/main/linux-64::lame-3.100-h7b6447c_0 \n",
      "  lcms2              pkgs/main/linux-64::lcms2-2.12-h3be6417_0 \n",
      "  lerc               pkgs/main/linux-64::lerc-3.0-h295c915_0 \n",
      "  libcublas          nvidia/linux-64::libcublas-11.10.3.66-0 \n",
      "  libcublas-dev      nvidia/linux-64::libcublas-dev-11.10.3.66-0 \n",
      "  libcufft           nvidia/linux-64::libcufft-10.7.2.124-h4fbf590_0 \n",
      "  libcufft-dev       nvidia/linux-64::libcufft-dev-10.7.2.124-h98a8f43_0 \n",
      "  libcufile          nvidia/linux-64::libcufile-1.5.0.59-0 \n",
      "  libcufile-dev      nvidia/linux-64::libcufile-dev-1.5.0.59-0 \n",
      "  libcurand          nvidia/linux-64::libcurand-10.3.1.50-0 \n",
      "  libcurand-dev      nvidia/linux-64::libcurand-dev-10.3.1.50-0 \n",
      "  libcusolver        nvidia/linux-64::libcusolver-11.4.0.1-0 \n",
      "  libcusolver-dev    nvidia/linux-64::libcusolver-dev-11.4.0.1-0 \n",
      "  libcusparse        nvidia/linux-64::libcusparse-11.7.4.91-0 \n",
      "  libcusparse-dev    nvidia/linux-64::libcusparse-dev-11.7.4.91-0 \n",
      "  libdeflate         pkgs/main/linux-64::libdeflate-1.8-h7f8727e_5 \n",
      "  libiconv           pkgs/main/linux-64::libiconv-1.16-h7f8727e_2 \n",
      "  libidn2            pkgs/main/linux-64::libidn2-2.3.2-h7f8727e_0 \n",
      "  libnpp             nvidia/linux-64::libnpp-11.7.4.75-0 \n",
      "  libnpp-dev         nvidia/linux-64::libnpp-dev-11.7.4.75-0 \n",
      "  libnvjpeg          nvidia/linux-64::libnvjpeg-11.8.0.2-0 \n",
      "  libnvjpeg-dev      nvidia/linux-64::libnvjpeg-dev-11.8.0.2-0 \n",
      "  libpng             pkgs/main/linux-64::libpng-1.6.37-hbc83047_0 \n",
      "  libtasn1           pkgs/main/linux-64::libtasn1-4.16.0-h27cfd23_0 \n",
      "  libtiff            pkgs/main/linux-64::libtiff-4.5.0-hecacb30_0 \n",
      "  libunistring       pkgs/main/linux-64::libunistring-0.9.10-h27cfd23_0 \n",
      "  libwebp            pkgs/main/linux-64::libwebp-1.2.4-h11a3e52_0 \n",
      "  libwebp-base       pkgs/main/linux-64::libwebp-base-1.2.4-h5eee18b_0 \n",
      "  lz4-c              pkgs/main/linux-64::lz4-c-1.9.4-h6a678d5_0 \n",
      "  mkl                pkgs/main/linux-64::mkl-2021.4.0-h06a4308_640 \n",
      "  mkl-service        pkgs/main/linux-64::mkl-service-2.4.0-py310h7f8727e_0 \n",
      "  mkl_fft            pkgs/main/linux-64::mkl_fft-1.3.1-py310hd6ae3a3_0 \n",
      "  mkl_random         pkgs/main/linux-64::mkl_random-1.2.2-py310h00e6091_0 \n",
      "  nettle             pkgs/main/linux-64::nettle-3.7.3-hbbd107a_1 \n",
      "  nsight-compute     nvidia/linux-64::nsight-compute-2022.4.0.15-0 \n",
      "  numpy              pkgs/main/linux-64::numpy-1.23.5-py310hd5efca6_0 \n",
      "  numpy-base         pkgs/main/linux-64::numpy-base-1.23.5-py310h8e6c178_0 \n",
      "  openh264           pkgs/main/linux-64::openh264-2.1.1-h4ff587b_0 \n",
      "  pillow             pkgs/main/linux-64::pillow-9.3.0-py310hace64e9_1 \n",
      "  pycparser          pkgs/main/noarch::pycparser-2.21-pyhd3eb1b0_0 \n",
      "  pyopenssl          pkgs/main/noarch::pyopenssl-22.0.0-pyhd3eb1b0_0 \n",
      "  pysocks            pkgs/main/linux-64::pysocks-1.7.1-py310h06a4308_0 \n",
      "  pytorch            pytorch/linux-64::pytorch-1.13.1-py3.10_cuda11.7_cudnn8.5.0_0 \n",
      "  pytorch-cuda       pytorch/noarch::pytorch-cuda-11.7-h67b0de4_1 \n",
      "  pytorch-mutex      pytorch/noarch::pytorch-mutex-1.0-cuda \n",
      "  requests           pkgs/main/linux-64::requests-2.28.1-py310h06a4308_0 \n",
      "  six                pkgs/main/noarch::six-1.16.0-pyhd3eb1b0_1 \n",
      "  torchaudio         pytorch/linux-64::torchaudio-0.13.1-py310_cu117 \n",
      "  torchvision        pytorch/linux-64::torchvision-0.14.1-py310_cu117 \n",
      "  typing_extensions  pkgs/main/linux-64::typing_extensions-4.4.0-py310h06a4308_0 \n",
      "  urllib3            pkgs/main/linux-64::urllib3-1.26.14-py310h06a4308_0 \n",
      "  zstd               pkgs/main/linux-64::zstd-1.5.2-ha4553b6_0 \n",
      "\n",
      "\n",
      "\n",
      "Downloading and Extracting Packages\n",
      "\n",
      "Preparing transaction: done\n",
      "Verifying transaction: done\n",
      "Executing transaction: done\n"
     ]
    }
   ],
   "source": [
    "# PyTorch\n",
    "!conda install pytorch torchvision torchaudio pytorch-cuda=11.7 -c pytorch -c nvidia -y"
   ]
  },
  {
   "cell_type": "code",
   "execution_count": 3,
   "id": "1ca8c254-aa45-4340-b2e7-7dc66065b4c8",
   "metadata": {},
   "outputs": [
    {
     "name": "stdout",
     "output_type": "stream",
     "text": [
      "Collecting package metadata (current_repodata.json): done\n",
      "Solving environment: done\n",
      "\n",
      "## Package Plan ##\n",
      "\n",
      "  environment location: /home/james/miniconda3/envs/cmpe260_dev\n",
      "\n",
      "  added / updated specs:\n",
      "    - stable-baselines3\n",
      "\n",
      "\n",
      "The following NEW packages will be INSTALLED:\n",
      "\n",
      "  bottleneck         pkgs/main/linux-64::bottleneck-1.3.5-py310ha9d4c09_0 \n",
      "  cloudpickle        conda-forge/noarch::cloudpickle-2.2.1-pyhd8ed1ab_0 \n",
      "  cycler             conda-forge/noarch::cycler-0.11.0-pyhd8ed1ab_0 \n",
      "  gym                conda-forge/linux-64::gym-0.21.0-py310hfdc917e_2 \n",
      "  kiwisolver         pkgs/main/linux-64::kiwisolver-1.4.4-py310h6a678d5_0 \n",
      "  matplotlib-base    conda-forge/linux-64::matplotlib-base-3.4.3-py310h23f4a51_2 \n",
      "  numexpr            pkgs/main/linux-64::numexpr-2.8.4-py310h8879344_0 \n",
      "  packaging          conda-forge/noarch::packaging-23.0-pyhd8ed1ab_0 \n",
      "  pandas             pkgs/main/linux-64::pandas-1.5.2-py310h1128e8f_0 \n",
      "  pyparsing          conda-forge/noarch::pyparsing-3.0.9-pyhd8ed1ab_0 \n",
      "  python-dateutil    conda-forge/noarch::python-dateutil-2.8.2-pyhd8ed1ab_0 \n",
      "  python_abi         conda-forge/linux-64::python_abi-3.10-2_cp310 \n",
      "  pytz               conda-forge/noarch::pytz-2022.7.1-pyhd8ed1ab_0 \n",
      "  stable-baselines3  conda-forge/noarch::stable-baselines3-1.5.0-pyhd8ed1ab_0 \n",
      "  tornado            conda-forge/linux-64::tornado-6.1-py310h5764c6d_3 \n",
      "\n",
      "The following packages will be SUPERSEDED by a higher-priority channel:\n",
      "\n",
      "  ca-certificates    pkgs/main::ca-certificates-2023.01.10~ --> conda-forge::ca-certificates-2022.12.7-ha878542_0 \n",
      "  certifi            pkgs/main/linux-64::certifi-2022.12.7~ --> conda-forge/noarch::certifi-2022.12.7-pyhd8ed1ab_0 \n",
      "\n",
      "\n",
      "\n",
      "Downloading and Extracting Packages\n",
      "\n",
      "Preparing transaction: done\n",
      "Verifying transaction: done\n",
      "Executing transaction: done\n"
     ]
    }
   ],
   "source": [
    "# For RL Stuff\n",
    "# pip install breaks gym and super_mario_bros\n",
    "# !pip install stable-baselines3[extra]\n",
    "!conda install -c conda-forge stable-baselines3 -y"
   ]
  },
  {
   "cell_type": "code",
   "execution_count": 4,
   "id": "87fdb845",
   "metadata": {},
   "outputs": [
    {
     "name": "stdout",
     "output_type": "stream",
     "text": [
      "Looking in indexes: https://pypi.org/simple, https://pypi.ngc.nvidia.com\n",
      "Collecting gym_super_mario_bros==7.3.0\n",
      "  Downloading gym_super_mario_bros-7.3.0-py2.py3-none-any.whl (198 kB)\n",
      "\u001b[2K     \u001b[38;2;114;156;31m━━━━━━━━━━━━━━━━━━━━━━━━━━━━━━━━━━━━━━━\u001b[0m \u001b[32m198.6/198.6 kB\u001b[0m \u001b[31m2.3 MB/s\u001b[0m eta \u001b[36m0:00:00\u001b[0m MB/s\u001b[0m eta \u001b[36m0:00:01\u001b[0m\n",
      "\u001b[?25hCollecting nes_py\n",
      "  Downloading nes_py-8.2.1.tar.gz (77 kB)\n",
      "\u001b[2K     \u001b[38;2;114;156;31m━━━━━━━━━━━━━━━━━━━━━━━━━━━━━━━━━━━━━━━━\u001b[0m \u001b[32m77.7/77.7 kB\u001b[0m \u001b[31m7.5 MB/s\u001b[0m eta \u001b[36m0:00:00\u001b[0m\n",
      "\u001b[?25h  Preparing metadata (setup.py) ... \u001b[?25ldone\n",
      "\u001b[?25hRequirement already satisfied: gym>=0.17.2 in /home/james/miniconda3/envs/cmpe260_dev/lib/python3.10/site-packages (from nes_py) (0.21.0)\n",
      "Requirement already satisfied: numpy>=1.18.5 in /home/james/miniconda3/envs/cmpe260_dev/lib/python3.10/site-packages (from nes_py) (1.23.5)\n",
      "Collecting pyglet<=1.5.21,>=1.4.0\n",
      "  Downloading pyglet-1.5.21-py3-none-any.whl (1.1 MB)\n",
      "\u001b[2K     \u001b[38;2;114;156;31m━━━━━━━━━━━━━━━━━━━━━━━━━━━━━━━━━━━━━━━━\u001b[0m \u001b[32m1.1/1.1 MB\u001b[0m \u001b[31m3.6 MB/s\u001b[0m eta \u001b[36m0:00:00\u001b[0m[31m3.4 MB/s\u001b[0m eta \u001b[36m0:00:01\u001b[0mm\n",
      "\u001b[?25hCollecting tqdm>=4.48.2\n",
      "  Downloading tqdm-4.64.1-py2.py3-none-any.whl (78 kB)\n",
      "\u001b[2K     \u001b[38;2;114;156;31m━━━━━━━━━━━━━━━━━━━━━━━━━━━━━━━━━━━━━━━━\u001b[0m \u001b[32m78.5/78.5 kB\u001b[0m \u001b[31m14.0 MB/s\u001b[0m eta \u001b[36m0:00:00\u001b[0m\n",
      "\u001b[?25hRequirement already satisfied: cloudpickle>=1.2.0 in /home/james/miniconda3/envs/cmpe260_dev/lib/python3.10/site-packages (from gym>=0.17.2->nes_py) (2.2.1)\n",
      "Building wheels for collected packages: nes_py\n",
      "  Building wheel for nes_py (setup.py) ... \u001b[?25ldone\n",
      "\u001b[?25h  Created wheel for nes_py: filename=nes_py-8.2.1-cp310-cp310-linux_x86_64.whl size=48185 sha256=fedff7642ce79719368f78334628a5f20e0ceb006a06687d347521ada178e61e\n",
      "  Stored in directory: /tmp/pip-ephem-wheel-cache-0awcmbcu/wheels/bc/1a/6e/27afc1393514b773012ff8d89f77ed4fa02055aa36f39d43df\n",
      "Successfully built nes_py\n",
      "Installing collected packages: pyglet, tqdm, nes_py, gym_super_mario_bros\n",
      "Successfully installed gym_super_mario_bros-7.3.0 nes_py-8.2.1 pyglet-1.5.21 tqdm-4.64.1\n"
     ]
    }
   ],
   "source": [
    "!pip install opencv-python gym_super_mario_bros==7.3.0 nes_py"
   ]
  },
  {
   "cell_type": "code",
   "execution_count": 5,
   "id": "ef6f82ab",
   "metadata": {},
   "outputs": [],
   "source": [
    "# Import the game\n",
    "import gym\n",
    "import gym_super_mario_bros\n",
    "# Import the Joypad wrapper\n",
    "from nes_py.wrappers import JoypadSpace\n",
    "# Import the SIMPLIFIED controls\n",
    "from gym_super_mario_bros.actions import SIMPLE_MOVEMENT"
   ]
  },
  {
   "cell_type": "code",
   "execution_count": 7,
   "id": "88907c44",
   "metadata": {},
   "outputs": [],
   "source": [
    "# setup game\n",
    "env = gym_super_mario_bros.make(\"SuperMarioBros-v0\")\n",
    "env = JoypadSpace(env, SIMPLE_MOVEMENT)"
   ]
  },
  {
   "cell_type": "code",
   "execution_count": 10,
   "id": "f00e70e9",
   "metadata": {},
   "outputs": [
    {
     "name": "stderr",
     "output_type": "stream",
     "text": [
      "/home/james/miniconda3/envs/cmpe260_dev/lib/python3.10/site-packages/gym_super_mario_bros/smb_env.py:148: RuntimeWarning: overflow encountered in ubyte_scalars\n",
      "  return (self.ram[0x86] - self.ram[0x071c]) % 256\n"
     ]
    },
    {
     "ename": "KeyboardInterrupt",
     "evalue": "",
     "output_type": "error",
     "traceback": [
      "\u001b[0;31m---------------------------------------------------------------------------\u001b[0m",
      "\u001b[0;31mKeyboardInterrupt\u001b[0m                         Traceback (most recent call last)",
      "Cell \u001b[0;32mIn[10], line 10\u001b[0m\n\u001b[1;32m      8\u001b[0m     env\u001b[38;5;241m.\u001b[39mreset()\n\u001b[1;32m      9\u001b[0m \u001b[38;5;66;03m# Do random actions\u001b[39;00m\n\u001b[0;32m---> 10\u001b[0m state, reward, done, info \u001b[38;5;241m=\u001b[39m \u001b[43menv\u001b[49m\u001b[38;5;241;43m.\u001b[39;49m\u001b[43mstep\u001b[49m\u001b[43m(\u001b[49m\u001b[43menv\u001b[49m\u001b[38;5;241;43m.\u001b[39;49m\u001b[43maction_space\u001b[49m\u001b[38;5;241;43m.\u001b[39;49m\u001b[43msample\u001b[49m\u001b[43m(\u001b[49m\u001b[43m)\u001b[49m\u001b[43m)\u001b[49m\n\u001b[1;32m     11\u001b[0m \u001b[38;5;66;03m# done = terminated or truncated\u001b[39;00m\n\u001b[1;32m     12\u001b[0m \u001b[38;5;66;03m# Show the game on the screen\u001b[39;00m\n\u001b[1;32m     13\u001b[0m env\u001b[38;5;241m.\u001b[39mrender()\n",
      "File \u001b[0;32m~/miniconda3/envs/cmpe260_dev/lib/python3.10/site-packages/nes_py/wrappers/joypad_space.py:74\u001b[0m, in \u001b[0;36mJoypadSpace.step\u001b[0;34m(self, action)\u001b[0m\n\u001b[1;32m     59\u001b[0m \u001b[38;5;250m\u001b[39m\u001b[38;5;124;03m\"\"\"\u001b[39;00m\n\u001b[1;32m     60\u001b[0m \u001b[38;5;124;03mTake a step using the given action.\u001b[39;00m\n\u001b[1;32m     61\u001b[0m \n\u001b[0;32m   (...)\u001b[0m\n\u001b[1;32m     71\u001b[0m \n\u001b[1;32m     72\u001b[0m \u001b[38;5;124;03m\"\"\"\u001b[39;00m\n\u001b[1;32m     73\u001b[0m \u001b[38;5;66;03m# take the step and record the output\u001b[39;00m\n\u001b[0;32m---> 74\u001b[0m \u001b[38;5;28;01mreturn\u001b[39;00m \u001b[38;5;28;43mself\u001b[39;49m\u001b[38;5;241;43m.\u001b[39;49m\u001b[43menv\u001b[49m\u001b[38;5;241;43m.\u001b[39;49m\u001b[43mstep\u001b[49m\u001b[43m(\u001b[49m\u001b[38;5;28;43mself\u001b[39;49m\u001b[38;5;241;43m.\u001b[39;49m\u001b[43m_action_map\u001b[49m\u001b[43m[\u001b[49m\u001b[43maction\u001b[49m\u001b[43m]\u001b[49m\u001b[43m)\u001b[49m\n",
      "File \u001b[0;32m~/miniconda3/envs/cmpe260_dev/lib/python3.10/site-packages/gym/wrappers/time_limit.py:18\u001b[0m, in \u001b[0;36mTimeLimit.step\u001b[0;34m(self, action)\u001b[0m\n\u001b[1;32m     14\u001b[0m \u001b[38;5;28;01mdef\u001b[39;00m \u001b[38;5;21mstep\u001b[39m(\u001b[38;5;28mself\u001b[39m, action):\n\u001b[1;32m     15\u001b[0m     \u001b[38;5;28;01massert\u001b[39;00m (\n\u001b[1;32m     16\u001b[0m         \u001b[38;5;28mself\u001b[39m\u001b[38;5;241m.\u001b[39m_elapsed_steps \u001b[38;5;129;01mis\u001b[39;00m \u001b[38;5;129;01mnot\u001b[39;00m \u001b[38;5;28;01mNone\u001b[39;00m\n\u001b[1;32m     17\u001b[0m     ), \u001b[38;5;124m\"\u001b[39m\u001b[38;5;124mCannot call env.step() before calling reset()\u001b[39m\u001b[38;5;124m\"\u001b[39m\n\u001b[0;32m---> 18\u001b[0m     observation, reward, done, info \u001b[38;5;241m=\u001b[39m \u001b[38;5;28;43mself\u001b[39;49m\u001b[38;5;241;43m.\u001b[39;49m\u001b[43menv\u001b[49m\u001b[38;5;241;43m.\u001b[39;49m\u001b[43mstep\u001b[49m\u001b[43m(\u001b[49m\u001b[43maction\u001b[49m\u001b[43m)\u001b[49m\n\u001b[1;32m     19\u001b[0m     \u001b[38;5;28mself\u001b[39m\u001b[38;5;241m.\u001b[39m_elapsed_steps \u001b[38;5;241m+\u001b[39m\u001b[38;5;241m=\u001b[39m \u001b[38;5;241m1\u001b[39m\n\u001b[1;32m     20\u001b[0m     \u001b[38;5;28;01mif\u001b[39;00m \u001b[38;5;28mself\u001b[39m\u001b[38;5;241m.\u001b[39m_elapsed_steps \u001b[38;5;241m>\u001b[39m\u001b[38;5;241m=\u001b[39m \u001b[38;5;28mself\u001b[39m\u001b[38;5;241m.\u001b[39m_max_episode_steps:\n",
      "File \u001b[0;32m~/miniconda3/envs/cmpe260_dev/lib/python3.10/site-packages/nes_py/nes_env.py:300\u001b[0m, in \u001b[0;36mNESEnv.step\u001b[0;34m(self, action)\u001b[0m\n\u001b[1;32m    298\u001b[0m \u001b[38;5;28mself\u001b[39m\u001b[38;5;241m.\u001b[39mcontrollers[\u001b[38;5;241m0\u001b[39m][:] \u001b[38;5;241m=\u001b[39m action\n\u001b[1;32m    299\u001b[0m \u001b[38;5;66;03m# pass the action to the emulator as an unsigned byte\u001b[39;00m\n\u001b[0;32m--> 300\u001b[0m \u001b[43m_LIB\u001b[49m\u001b[38;5;241;43m.\u001b[39;49m\u001b[43mStep\u001b[49m\u001b[43m(\u001b[49m\u001b[38;5;28;43mself\u001b[39;49m\u001b[38;5;241;43m.\u001b[39;49m\u001b[43m_env\u001b[49m\u001b[43m)\u001b[49m\n\u001b[1;32m    301\u001b[0m \u001b[38;5;66;03m# get the reward for this step\u001b[39;00m\n\u001b[1;32m    302\u001b[0m reward \u001b[38;5;241m=\u001b[39m \u001b[38;5;28mfloat\u001b[39m(\u001b[38;5;28mself\u001b[39m\u001b[38;5;241m.\u001b[39m_get_reward())\n",
      "\u001b[0;31mKeyboardInterrupt\u001b[0m: "
     ]
    }
   ],
   "source": [
    "# Create a flag restart or not\n",
    "done = True\n",
    "# Loop through each frame in the game\n",
    "for step in range(100000):\n",
    "    # Start the game to begin with\n",
    "    if done:\n",
    "        # Start the game\n",
    "        env.reset()\n",
    "    # Do random actions\n",
    "    state, reward, done, info = env.step(env.action_space.sample())\n",
    "    # done = terminated or truncated\n",
    "    # Show the game on the screen\n",
    "    env.render()\n",
    "# Close the game\n",
    "env.close()"
   ]
  },
  {
   "cell_type": "code",
   "execution_count": 11,
   "id": "dd7d65e3-5853-4fda-8275-425457438b57",
   "metadata": {},
   "outputs": [],
   "source": [
    "env.close()"
   ]
  },
  {
   "cell_type": "markdown",
   "id": "66fe565b-972e-4f87-a364-f821d3c2bb9c",
   "metadata": {},
   "source": [
    "## Preprocess Environment"
   ]
  },
  {
   "cell_type": "code",
   "execution_count": 17,
   "id": "7c679ce8-dbec-47bc-b251-c31bf147ebb2",
   "metadata": {},
   "outputs": [
    {
     "name": "stdout",
     "output_type": "stream",
     "text": [
      "Looking in indexes: https://pypi.org/simple, https://pypi.ngc.nvidia.com\n",
      "Collecting opencv-python\n",
      "  Downloading opencv_python-4.7.0.68-cp37-abi3-manylinux_2_17_x86_64.manylinux2014_x86_64.whl (61.8 MB)\n",
      "\u001b[2K     \u001b[38;2;114;156;31m━━━━━━━━━━━━━━━━━━━━━━━━━━━━━━━━━━━━━━━━\u001b[0m \u001b[32m61.8/61.8 MB\u001b[0m \u001b[31m4.2 MB/s\u001b[0m eta \u001b[36m0:00:00\u001b[0mm eta \u001b[36m0:00:01\u001b[0m[36m0:00:01\u001b[0m\n",
      "\u001b[?25hRequirement already satisfied: numpy>=1.19.3 in /home/james/miniconda3/envs/cmpe260_dev/lib/python3.10/site-packages (from opencv-python) (1.23.5)\n",
      "Installing collected packages: opencv-python\n",
      "Successfully installed opencv-python-4.7.0.68\n"
     ]
    }
   ],
   "source": [
    "# !pip install opencv-python"
   ]
  },
  {
   "cell_type": "code",
   "execution_count": 25,
   "id": "62598d55-f3a6-4971-9086-e777b952556e",
   "metadata": {},
   "outputs": [],
   "source": [
    "# Import FrameStack Wrapper and GrayScaling Wrapper\n",
    "from gym.wrappers import GrayScaleObservation\n",
    "# Import Vectorization Wrappers\n",
    "from stable_baselines3.common.vec_env import VecFrameStack, DummyVecEnv\n",
    "# Import Matplotlib to show the impact of frame stacking\n",
    "from matplotlib import pyplot as plt"
   ]
  },
  {
   "cell_type": "code",
   "execution_count": 30,
   "id": "d9241245-5330-4a22-901e-14531ef3b1d5",
   "metadata": {},
   "outputs": [],
   "source": [
    "# 1. Create the base environment\n",
    "env = gym_super_mario_bros.make(\"SuperMarioBros-v0\")\n",
    "\n",
    "# 2. Simplify the controls\n",
    "env = JoypadSpace(env, SIMPLE_MOVEMENT)\n",
    "\n",
    "# 3. Grayscale\n",
    "env = GrayScaleObservation(env, keep_dim=True)\n",
    "\n",
    "# 4. Wrap inside the Dummy Environment (place our env in another array)\n",
    "env = DummyVecEnv([lambda: env])\n",
    "\n",
    "# 5. Pass env through frame stack, Stack the frames up to 4\n",
    "env = VecFrameStack(env, 4, channels_order='last')"
   ]
  },
  {
   "cell_type": "code",
   "execution_count": 56,
   "id": "5b2d7cab-d5cf-4e96-9871-2c3b6a26a510",
   "metadata": {},
   "outputs": [],
   "source": [
    "state = env.reset()"
   ]
  },
  {
   "cell_type": "code",
   "execution_count": 57,
   "id": "ee518b70-32d0-43eb-bce7-3e9907ae9b2b",
   "metadata": {},
   "outputs": [
    {
     "data": {
      "text/plain": [
       "[['NOOP'],\n",
       " ['right'],\n",
       " ['right', 'A'],\n",
       " ['right', 'B'],\n",
       " ['right', 'A', 'B'],\n",
       " ['A'],\n",
       " ['left']]"
      ]
     },
     "execution_count": 57,
     "metadata": {},
     "output_type": "execute_result"
    }
   ],
   "source": [
    "SIMPLE_MOVEMENT"
   ]
  },
  {
   "cell_type": "code",
   "execution_count": 58,
   "id": "ca31f834-cdb8-4096-bbbe-dc2e55b78109",
   "metadata": {},
   "outputs": [
    {
     "data": {
      "text/plain": [
       "(1, 240, 256, 4)"
      ]
     },
     "execution_count": 58,
     "metadata": {},
     "output_type": "execute_result"
    }
   ],
   "source": [
    "# since env placed in array via DummyVecEnv, we have 1 in front\n",
    "# since we pass env in frame stack, last is 4\n",
    "state.shape"
   ]
  },
  {
   "cell_type": "code",
   "execution_count": 89,
   "id": "6d345e13-335a-4a85-8dcd-0952eb52936e",
   "metadata": {},
   "outputs": [],
   "source": [
    "# each step gets us another stacked frame, keep doing eventually get 4 stacked\n",
    "# note: 1st step is 1 frame\n",
    "# Instead of random action [env.action_space.sample()], jump [5] action\n",
    "state, reward, done, info = env.step([5])"
   ]
  },
  {
   "cell_type": "code",
   "execution_count": 90,
   "id": "e73184d3-7cc5-495c-9d45-0860ff4068e0",
   "metadata": {},
   "outputs": [
    {
     "data": {
      "text/plain": [
       "<matplotlib.image.AxesImage at 0x7f8dd9d8d2d0>"
      ]
     },
     "execution_count": 90,
     "metadata": {},
     "output_type": "execute_result"
    },
    {
     "data": {
      "image/png": "[encoded data removed]",
      "text/plain": [
       "<Figure size 640x480 with 1 Axes>"
      ]
     },
     "metadata": {},
     "output_type": "display_data"
    }
   ],
   "source": [
    "# since env is placed in array, we need to get by index\n",
    "# Due to VecFrameStack, we have 4 diff imgs stacked together\n",
    "plt.imshow(state[0])"
   ]
  },
  {
   "cell_type": "code",
   "execution_count": 91,
   "id": "6db5e97a-9a8a-45fc-b302-0985be48bb8a",
   "metadata": {},
   "outputs": [
    {
     "data": {
      "image/png": "[encoded data removed]",
      "text/plain": [
       "<Figure size 1000x800 with 4 Axes>"
      ]
     },
     "metadata": {},
     "output_type": "display_data"
    }
   ],
   "source": [
    "# represents each one of our diff stacked frames, display them\n",
    "# note: num of frames is impacted based on our steps in previous code box\n",
    "# For [5] jump action, keep looping and running code box with env.step until see mario jump\n",
    "# also our RL agent will have some kind of memory, it will be able to see when playing as mario\n",
    "plt.figure(figsize=(10,8))\n",
    "for idx in range(state.shape[3]):\n",
    "    plt.subplot(1,4,idx+1)\n",
    "    plt.imshow(state[0][:,:,idx])\n",
    "plt.show()"
   ]
  },
  {
   "cell_type": "code",
   "execution_count": null,
   "id": "3151afa1-726f-46a0-a83f-ca6fb3ff3265",
   "metadata": {},
   "outputs": [],
   "source": []
  },
  {
   "cell_type": "code",
   "execution_count": null,
   "id": "587e135a-e36a-407a-9dc9-d4396554140f",
   "metadata": {},
   "outputs": [],
   "source": []
  },
  {
   "cell_type": "code",
   "execution_count": null,
   "id": "3c359931-f9d7-4059-b12c-c82a960c7715",
   "metadata": {},
   "outputs": [],
   "source": []
  }
 ],
 "metadata": {
  "kernelspec": {
   "display_name": "Python 3 (ipykernel)",
   "language": "python",
   "name": "python3"
  },
  "language_info": {
   "codemirror_mode": {
    "name": "ipython",
    "version": 3
   },
   "file_extension": ".py",
   "mimetype": "text/x-python",
   "name": "python",
   "nbconvert_exporter": "python",
   "pygments_lexer": "ipython3",
   "version": "3.10.9"
  }
 },
 "nbformat": 4,
 "nbformat_minor": 5
}
