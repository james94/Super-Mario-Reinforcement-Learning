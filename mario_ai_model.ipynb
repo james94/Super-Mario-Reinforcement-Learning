{
 "cells": [
  {
   "cell_type": "markdown",
   "id": "a5411683",
   "metadata": {},
   "source": [
    "# RL for Super Mario Bros"
   ]
  },
  {
   "cell_type": "markdown",
   "id": "34f51310",
   "metadata": {},
   "source": [
    "## Setup Mario"
   ]
  },
  {
   "cell_type": "code",
   "execution_count": null,
   "id": "87fdb845",
   "metadata": {},
   "outputs": [],
   "source": [
    "!pip install gym_super_mario_bros==7.3.0 nes_py"
   ]
  },
  {
   "cell_type": "code",
   "execution_count": 1,
   "id": "ef6f82ab",
   "metadata": {},
   "outputs": [],
   "source": [
    "# Import the game\n",
    "import gym\n",
    "import gym_super_mario_bros\n",
    "# Import the Joypad wrapper\n",
    "from nes_py.wrappers import JoypadSpace\n",
    "# Import the SIMPLIFIED controls\n",
    "from gym_super_mario_bros.actions import SIMPLE_MOVEMENT"
   ]
  },
  {
   "cell_type": "code",
   "execution_count": 2,
   "id": "88907c44",
   "metadata": {},
   "outputs": [
    {
     "name": "stderr",
     "output_type": "stream",
     "text": [
      "/home/james/miniconda3/envs/cmpe260_dev/lib/python3.10/site-packages/gym/envs/registration.py:555: UserWarning: \u001b[33mWARN: The environment SuperMarioBros-v0 is out of date. You should consider upgrading to version `v3`.\u001b[0m\n",
      "  logger.warn(\n",
      "/home/james/miniconda3/envs/cmpe260_dev/lib/python3.10/site-packages/gym/envs/registration.py:627: UserWarning: \u001b[33mWARN: The environment creator metadata doesn't include `render_modes`, contains: ['render.modes', 'video.frames_per_second']\u001b[0m\n",
      "  logger.warn(\n"
     ]
    }
   ],
   "source": [
    "# setup game\n",
    "env = gym_super_mario_bros.make(\"SuperMarioBros-v0\", \n",
    "                                apply_api_compatibility=True, render_mode=\"human\")\n",
    "env = JoypadSpace(env, SIMPLE_MOVEMENT)"
   ]
  },
  {
   "cell_type": "code",
   "execution_count": 3,
   "id": "5a346ecb",
   "metadata": {},
   "outputs": [
    {
     "data": {
      "text/plain": [
       "(240, 256, 3)"
      ]
     },
     "execution_count": 3,
     "metadata": {},
     "output_type": "execute_result"
    }
   ],
   "source": [
    "env.observation_space.shape"
   ]
  },
  {
   "cell_type": "code",
   "execution_count": 4,
   "id": "5cf15f85",
   "metadata": {},
   "outputs": [
    {
     "data": {
      "text/plain": [
       "Discrete(7)"
      ]
     },
     "execution_count": 4,
     "metadata": {},
     "output_type": "execute_result"
    }
   ],
   "source": [
    "env.action_space"
   ]
  },
  {
   "cell_type": "code",
   "execution_count": 5,
   "id": "c6f8549c",
   "metadata": {},
   "outputs": [
    {
     "data": {
      "text/plain": [
       "[['NOOP'],\n",
       " ['right'],\n",
       " ['right', 'A'],\n",
       " ['right', 'B'],\n",
       " ['right', 'A', 'B'],\n",
       " ['A'],\n",
       " ['left']]"
      ]
     },
     "execution_count": 5,
     "metadata": {},
     "output_type": "execute_result"
    }
   ],
   "source": [
    "SIMPLE_MOVEMENT"
   ]
  },
  {
   "cell_type": "code",
   "execution_count": 6,
   "id": "35a4c94b",
   "metadata": {},
   "outputs": [
    {
     "data": {
      "text/plain": [
       "['right']"
      ]
     },
     "execution_count": 6,
     "metadata": {},
     "output_type": "execute_result"
    }
   ],
   "source": [
    "# gets a random action and pass as index to SIMPLE_MOVEMENT\n",
    "SIMPLE_MOVEMENT[env.action_space.sample()]"
   ]
  },
  {
   "cell_type": "code",
   "execution_count": null,
   "id": "f00e70e9",
   "metadata": {},
   "outputs": [],
   "source": [
    "# Create a flag restart or not\n",
    "done = True\n",
    "# Loop through each frame in the game\n",
    "for step in range(100000):\n",
    "    # Start the game to begin with\n",
    "    if done:\n",
    "        # Start the game\n",
    "        env.reset()\n",
    "    # Do random actions\n",
    "    state, reward, terminated, truncated, info = env.step(env.action_space.sample())\n",
    "    done = terminated or truncated\n",
    "    # Show the game on the screen\n",
    "    env.render()\n",
    "# Close the game\n",
    "env.close()"
   ]
  },
  {
   "cell_type": "code",
   "execution_count": 8,
   "id": "f3a22bba-ac81-4069-921c-d30ab6a8743f",
   "metadata": {},
   "outputs": [],
   "source": [
    "state = env.reset()"
   ]
  },
  {
   "cell_type": "code",
   "execution_count": 15,
   "id": "516c23c3",
   "metadata": {},
   "outputs": [
    {
     "data": {
      "text/plain": [
       "{'coins': 0,\n",
       " 'flag_get': False,\n",
       " 'life': 2,\n",
       " 'score': 0,\n",
       " 'stage': 1,\n",
       " 'status': 'small',\n",
       " 'time': 400,\n",
       " 'world': 1,\n",
       " 'x_pos': 41,\n",
       " 'x_pos_screen': 41,\n",
       " 'y_pos': 79}"
      ]
     },
     "execution_count": 15,
     "metadata": {},
     "output_type": "execute_result"
    }
   ],
   "source": [
    "env.step(1)[4]"
   ]
  },
  {
   "cell_type": "code",
   "execution_count": 16,
   "id": "65d306a8-b392-48d1-bb94-d8657e98eb82",
   "metadata": {},
   "outputs": [],
   "source": [
    "env.close()"
   ]
  },
  {
   "cell_type": "code",
   "execution_count": null,
   "id": "e24568b7-255f-43b4-b982-8268ace40d8f",
   "metadata": {},
   "outputs": [],
   "source": []
  }
 ],
 "metadata": {
  "kernelspec": {
   "display_name": "Python 3 (ipykernel)",
   "language": "python",
   "name": "python3"
  },
  "language_info": {
   "codemirror_mode": {
    "name": "ipython",
    "version": 3
   },
   "file_extension": ".py",
   "mimetype": "text/x-python",
   "name": "python",
   "nbconvert_exporter": "python",
   "pygments_lexer": "ipython3",
   "version": "3.10.9"
  }
 },
 "nbformat": 4,
 "nbformat_minor": 5
}
